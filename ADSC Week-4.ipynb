{
 "cells": [
  {
   "cell_type": "markdown",
   "metadata": {},
   "source": [
    "## Problem Description:"
   ]
  },
  {
   "cell_type": "markdown",
   "metadata": {},
   "source": [
    "#### In India, How to find the best state to live in and in that state finding the best city for doing businees with multiple business options"
   ]
  },
  {
   "cell_type": "markdown",
   "metadata": {},
   "source": [
    "India is having huge population which is 2nd in the world. This gives numbers of opportunities to those who want to start a new business in India.\n",
    "Someone from outside of India who want to stay and start a new businees in India will look after certain parameters to choose the best state to live. Three main paramters to consider are **Literacy rate**, **Crime rate** and per **Capita NSDP(Net state Domestic Product)**. Now not any single state will have highest literacy rate and Per capita NSDP along with lowest crime rate. So here we will use the Data Analysis methods to find the best state which has balances between all these three parameters.\n",
    "\n",
    "After having the best state to live in we will find the best business options and in which city one of that businesses can be started to have the successful business.\n",
    "\n",
    "\n",
    "\n"
   ]
  },
  {
   "cell_type": "markdown",
   "metadata": {},
   "source": [
    "## Data used to solve the problem:"
   ]
  },
  {
   "cell_type": "markdown",
   "metadata": {},
   "source": [
    "##### 1. I have used following state wise (latest available) data from the \"Wikipedia\" to find the best state to live in."
   ]
  },
  {
   "cell_type": "markdown",
   "metadata": {},
   "source": [
    "* literacy Rate(2011): https://en.wikipedia.org/wiki/List_of_Indian_states_and_union_territories_by_literacy_rate\n",
    "* Crime Rate(2018): https://en.wikipedia.org/wiki/List_of_states_and_union_territories_of_India_by_crime_rate\n",
    "* Per Capita NSDP(2018): https://en.wikipedia.org/wiki/List_of_Indian_states_and_union_territories_by_GDP_per_capita"
   ]
  },
  {
   "cell_type": "markdown",
   "metadata": {},
   "source": [
    "We will use these state wise data to make cluster of the state and one of that cluster will give the list of states which are best and has balanced paramters stated above.   "
   ]
  },
  {
   "cell_type": "markdown",
   "metadata": {},
   "source": [
    "##### 2. I have used **FOUR SQUARE** API to retireve venues data to find the best business option and along with best business location."
   ]
  },
  {
   "cell_type": "code",
   "execution_count": null,
   "metadata": {},
   "outputs": [],
   "source": []
  }
 ],
 "metadata": {
  "kernelspec": {
   "display_name": "Python",
   "language": "python",
   "name": "conda-env-python-py"
  },
  "language_info": {
   "codemirror_mode": {
    "name": "ipython",
    "version": 3
   },
   "file_extension": ".py",
   "mimetype": "text/x-python",
   "name": "python",
   "nbconvert_exporter": "python",
   "pygments_lexer": "ipython3",
   "version": "3.6.11"
  }
 },
 "nbformat": 4,
 "nbformat_minor": 4
}
